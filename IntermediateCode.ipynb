{
  "nbformat": 4,
  "nbformat_minor": 0,
  "metadata": {
    "colab": {
      "provenance": [],
      "authorship_tag": "ABX9TyPQU10SScY4HQ0XeLWQR4+4",
      "include_colab_link": true
    },
    "kernelspec": {
      "name": "python3",
      "display_name": "Python 3"
    },
    "language_info": {
      "name": "python"
    }
  },
  "cells": [
    {
      "cell_type": "markdown",
      "metadata": {
        "id": "view-in-github",
        "colab_type": "text"
      },
      "source": [
        "<a href=\"https://colab.research.google.com/github/OliverDhyanchandCOW/CS200/blob/main/IntermediateCode.ipynb\" target=\"_parent\"><img src=\"https://colab.research.google.com/assets/colab-badge.svg\" alt=\"Open In Colab\"/></a>"
      ]
    },
    {
      "cell_type": "code",
      "source": [
        "#TensorFlow is an open-source machine learning library\n",
        "import tensorflow as tf\n",
        "#keras is a high-level api for tensorflow\n",
        "from tensorflow import keras\n",
        "from tensorflow.keras import layers\n",
        "#cifar10 is a dataset containing 32x32 RGB images of 10 different classes,\n",
        "#there are 50000 training images and 10000 test images, the classes are\n",
        "#airplanes, cars, birds, cats, deer, dogs, frogs, horses, ships, and trucks\n",
        "from tensorflow.keras.datasets import cifar10\n",
        "\n",
        "#loads the images from cifar10\n",
        "(x_train, y_train), (x_test, y_test) = cifar10.load_data()\n",
        "#converts the images from float64 to float32 to improve efficiency,\n",
        "#division constrains RGB values to between 0 and 1\n",
        "x_train = x_train.astype(\"float32\") / 255.0\n",
        "x_test = x_test.astype(\"float32\") / 255.0\n",
        "\n",
        "#defines the structure of the sequential model,\n",
        "#which maps one input to one output\n",
        "model = keras.Sequential(\n",
        "    [\n",
        "        #specifications for input layer, the 32s represent the image dimensions,\n",
        "        #because this in a CNN, we do not need to flatten the images,\n",
        "        #the 3 represents the color channels\n",
        "        keras.Input(shape=(32, 32, 3)),\n",
        "        #specifications for convolutional layer, 32 represents the number of\n",
        "        #output color channels, 3 represents the dimensions of the kernel,\n",
        "        #padding defaults to valid but is set for thoroughness,\n",
        "        #valid means the kernel will affect image dimensions,\n",
        "        #relu is the go-to activation function\n",
        "        layers.Conv2D(32, 3, padding='valid', activation='relu'),\n",
        "        #POOLING\n",
        "        layers.MaxPooling2D(pool_size=(2,2)),\n",
        "        layers.Conv2D(64, 3, activation='relu'),\n",
        "        layers.MaxPooling2D(pool_size=(2,2)),\n",
        "        layers.Conv2D(128, 3, activation='relu'),\n",
        "        layers.Flatten(),\n",
        "        layers.Dense(64, activation='relu'),\n",
        "        layers.Dense(10),\n",
        "    ]\n",
        ")\n",
        "\n",
        "\n",
        "\n",
        "#print(model.summary())\n",
        "\n",
        "#training configuration\n",
        "model.compile(\n",
        "    #CROSSENTROPY\n",
        "    #from_logits uses a softmax function to convert a real number vector to a\n",
        "    #probability distribution\n",
        "    loss=keras.losses.SparseCategoricalCrossentropy(from_logits=True),\n",
        "    optimizer=keras.optimizers.Adam(lr=3e-4),\n",
        "    metrics=[\"accuracy\"]\n",
        ")\n",
        "\n",
        "#call to train model,\n",
        "#verbose 2 causes training information to be printed after each epoch\n",
        "model.fit(x_train, y_train, batch_size=64, epochs=10, verbose=2)\n",
        "\n",
        "model.evaluate(x_test, y_test, batch_size=64, verbose=2)\n"
      ],
      "metadata": {
        "colab": {
          "base_uri": "https://localhost:8080/"
        },
        "id": "Omqb9NeEa8YV",
        "outputId": "db62703a-3a56-4e5a-a2f5-e9bb4a1d0bd8"
      },
      "execution_count": null,
      "outputs": [
        {
          "output_type": "stream",
          "name": "stdout",
          "text": [
            "Downloading data from https://www.cs.toronto.edu/~kriz/cifar-10-python.tar.gz\n",
            "170498071/170498071 [==============================] - 2s 0us/step\n"
          ]
        },
        {
          "output_type": "stream",
          "name": "stderr",
          "text": [
            "WARNING:absl:`lr` is deprecated in Keras optimizer, please use `learning_rate` or use the legacy optimizer, e.g.,tf.keras.optimizers.legacy.Adam.\n"
          ]
        },
        {
          "output_type": "stream",
          "name": "stdout",
          "text": [
            "Epoch 1/10\n",
            "782/782 - 66s - loss: 1.5841 - accuracy: 0.4191 - 66s/epoch - 85ms/step\n",
            "Epoch 2/10\n",
            "782/782 - 60s - loss: 1.2214 - accuracy: 0.5662 - 60s/epoch - 77ms/step\n",
            "Epoch 3/10\n",
            "782/782 - 60s - loss: 1.0553 - accuracy: 0.6289 - 60s/epoch - 77ms/step\n",
            "Epoch 4/10\n",
            "782/782 - 59s - loss: 0.9471 - accuracy: 0.6672 - 59s/epoch - 75ms/step\n",
            "Epoch 5/10\n",
            "782/782 - 60s - loss: 0.8624 - accuracy: 0.6977 - 60s/epoch - 77ms/step\n",
            "Epoch 6/10\n",
            "782/782 - 59s - loss: 0.7974 - accuracy: 0.7228 - 59s/epoch - 76ms/step\n",
            "Epoch 7/10\n",
            "782/782 - 60s - loss: 0.7308 - accuracy: 0.7453 - 60s/epoch - 77ms/step\n",
            "Epoch 8/10\n",
            "782/782 - 60s - loss: 0.6818 - accuracy: 0.7617 - 60s/epoch - 76ms/step\n",
            "Epoch 9/10\n"
          ]
        }
      ]
    }
  ]
}